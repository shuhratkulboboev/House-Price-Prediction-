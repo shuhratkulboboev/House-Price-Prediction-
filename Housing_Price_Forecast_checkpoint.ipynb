{
 "cells": [
  {
   "cell_type": "markdown",
   "metadata": {
    "id": "PR75Kw1kMwea"
   },
   "source": [
    "# Import"
   ]
  },
  {
   "cell_type": "code",
   "execution_count": 1,
   "metadata": {
    "id": "2MaDWIjDKsvq"
   },
   "outputs": [],
   "source": [
    "###importing necessary libraries\n",
    "import warnings\n",
    "warnings.filterwarnings('ignore')\n",
    "\n",
    "import numpy as np\n",
    "import pandas as pd\n",
    "\n",
    "import matplotlib.pyplot as plt\n",
    "import seaborn as sns\n",
    "\n",
    "from sklearn.linear_model import LinearRegression\n",
    "from sklearn.ensemble import GradientBoostingRegressor, RandomForestRegressor\n",
    "from sklearn.model_selection import train_test_split\n",
    "from sklearn.model_selection import cross_validate\n",
    "from sklearn.metrics import make_scorer"
   ]
  },
  {
   "cell_type": "markdown",
   "metadata": {
    "id": "9IcQGTfIMyjB"
   },
   "source": [
    "# Data understanding"
   ]
  },
  {
   "cell_type": "markdown",
   "metadata": {
    "id": "lPCgY7LD8FnI"
   },
   "source": [
    "## Reading the dataset (csv file) into Pandas dataframe"
   ]
  },
  {
   "cell_type": "code",
   "execution_count": 5,
   "metadata": {
    "id": "L1AmcerZLGKJ"
   },
   "outputs": [],
   "source": [
    "housing_file_path = \"DataSet_LakasArak_labeled.csv\"\n",
    "housing = pd.DataFrame(pd.read_csv(housing_file_path))\n",
    "house = housing.copy()"
   ]
  },
  {
   "cell_type": "markdown",
   "metadata": {
    "id": "x7T1kid18dDQ"
   },
   "source": [
    "## Exploring the dataframe"
   ]
  },
  {
   "cell_type": "code",
   "execution_count": 7,
   "metadata": {
    "id": "LvhaRTjuL23B"
   },
   "outputs": [
    {
     "data": {
      "text/html": [
       "<div>\n",
       "<style scoped>\n",
       "    .dataframe tbody tr th:only-of-type {\n",
       "        vertical-align: middle;\n",
       "    }\n",
       "\n",
       "    .dataframe tbody tr th {\n",
       "        vertical-align: top;\n",
       "    }\n",
       "\n",
       "    .dataframe thead th {\n",
       "        text-align: right;\n",
       "    }\n",
       "</style>\n",
       "<table border=\"1\" class=\"dataframe\">\n",
       "  <thead>\n",
       "    <tr style=\"text-align: right;\">\n",
       "      <th></th>\n",
       "      <th>county</th>\n",
       "      <th>city</th>\n",
       "      <th>postcode</th>\n",
       "      <th>property_type</th>\n",
       "      <th>property_subtype</th>\n",
       "      <th>property_condition_type</th>\n",
       "      <th>property_floor</th>\n",
       "      <th>building_floor_count</th>\n",
       "      <th>view_type</th>\n",
       "      <th>orientation</th>\n",
       "      <th>...</th>\n",
       "      <th>room_cnt</th>\n",
       "      <th>small_room_cnt</th>\n",
       "      <th>created_at</th>\n",
       "      <th>property_area</th>\n",
       "      <th>balcony_area</th>\n",
       "      <th>price_created_at</th>\n",
       "      <th>ad_view_cnt</th>\n",
       "      <th>active_days</th>\n",
       "      <th>nr</th>\n",
       "      <th>split</th>\n",
       "    </tr>\n",
       "  </thead>\n",
       "  <tbody>\n",
       "    <tr>\n",
       "      <th>0</th>\n",
       "      <td>Budapest</td>\n",
       "      <td>Budapest XII.</td>\n",
       "      <td>NaN</td>\n",
       "      <td>flat</td>\n",
       "      <td>brick flat (for sale)</td>\n",
       "      <td>good</td>\n",
       "      <td>1</td>\n",
       "      <td>NaN</td>\n",
       "      <td>street view</td>\n",
       "      <td>NaN</td>\n",
       "      <td>...</td>\n",
       "      <td>2.0</td>\n",
       "      <td>1.0</td>\n",
       "      <td>2015-02-09</td>\n",
       "      <td>65.0</td>\n",
       "      <td>0.0</td>\n",
       "      <td>23.5</td>\n",
       "      <td>605.0</td>\n",
       "      <td>119.0</td>\n",
       "      <td>4</td>\n",
       "      <td>test</td>\n",
       "    </tr>\n",
       "    <tr>\n",
       "      <th>1</th>\n",
       "      <td>Budapest</td>\n",
       "      <td>Budapest I.</td>\n",
       "      <td>1016.0</td>\n",
       "      <td>flat</td>\n",
       "      <td>brick flat (for sale)</td>\n",
       "      <td>novel</td>\n",
       "      <td>2</td>\n",
       "      <td>NaN</td>\n",
       "      <td>street view</td>\n",
       "      <td>NaN</td>\n",
       "      <td>...</td>\n",
       "      <td>1.0</td>\n",
       "      <td>1.0</td>\n",
       "      <td>2015-02-09</td>\n",
       "      <td>45.0</td>\n",
       "      <td>0.0</td>\n",
       "      <td>20.0</td>\n",
       "      <td>49.0</td>\n",
       "      <td>25.0</td>\n",
       "      <td>12</td>\n",
       "      <td>train</td>\n",
       "    </tr>\n",
       "    <tr>\n",
       "      <th>2</th>\n",
       "      <td>Budapest</td>\n",
       "      <td>Budapest XVI.</td>\n",
       "      <td>1164.0</td>\n",
       "      <td>flat</td>\n",
       "      <td>brick flat (for sale)</td>\n",
       "      <td>novel</td>\n",
       "      <td>1</td>\n",
       "      <td>NaN</td>\n",
       "      <td>garden view</td>\n",
       "      <td>NaN</td>\n",
       "      <td>...</td>\n",
       "      <td>2.0</td>\n",
       "      <td>1.0</td>\n",
       "      <td>2015-02-09</td>\n",
       "      <td>60.0</td>\n",
       "      <td>0.0</td>\n",
       "      <td>22.0</td>\n",
       "      <td>77.0</td>\n",
       "      <td>77.0</td>\n",
       "      <td>14</td>\n",
       "      <td>train</td>\n",
       "    </tr>\n",
       "    <tr>\n",
       "      <th>3</th>\n",
       "      <td>Budapest</td>\n",
       "      <td>Budapest X.</td>\n",
       "      <td>NaN</td>\n",
       "      <td>flat</td>\n",
       "      <td>brick flat (for sale)</td>\n",
       "      <td>good</td>\n",
       "      <td>4</td>\n",
       "      <td>NaN</td>\n",
       "      <td>garden view</td>\n",
       "      <td>NaN</td>\n",
       "      <td>...</td>\n",
       "      <td>2.0</td>\n",
       "      <td>0.0</td>\n",
       "      <td>2015-02-09</td>\n",
       "      <td>55.0</td>\n",
       "      <td>4.0</td>\n",
       "      <td>11.0</td>\n",
       "      <td>139.0</td>\n",
       "      <td>18.0</td>\n",
       "      <td>21</td>\n",
       "      <td>train</td>\n",
       "    </tr>\n",
       "    <tr>\n",
       "      <th>4</th>\n",
       "      <td>Budapest</td>\n",
       "      <td>Budapest XVIII.</td>\n",
       "      <td>1181.0</td>\n",
       "      <td>flat</td>\n",
       "      <td>prefabricated panel flat (for sale)</td>\n",
       "      <td>renewed</td>\n",
       "      <td>6</td>\n",
       "      <td>NaN</td>\n",
       "      <td>NaN</td>\n",
       "      <td>NaN</td>\n",
       "      <td>...</td>\n",
       "      <td>2.0</td>\n",
       "      <td>1.0</td>\n",
       "      <td>2015-02-09</td>\n",
       "      <td>60.0</td>\n",
       "      <td>3.0</td>\n",
       "      <td>10.2</td>\n",
       "      <td>176.0</td>\n",
       "      <td>69.0</td>\n",
       "      <td>31</td>\n",
       "      <td>test</td>\n",
       "    </tr>\n",
       "  </tbody>\n",
       "</table>\n",
       "<p>5 rows × 23 columns</p>\n",
       "</div>"
      ],
      "text/plain": [
       "     county             city  postcode property_type  \\\n",
       "0  Budapest    Budapest XII.       NaN          flat   \n",
       "1  Budapest      Budapest I.    1016.0          flat   \n",
       "2  Budapest    Budapest XVI.    1164.0          flat   \n",
       "3  Budapest      Budapest X.       NaN          flat   \n",
       "4  Budapest  Budapest XVIII.    1181.0          flat   \n",
       "\n",
       "                      property_subtype property_condition_type property_floor  \\\n",
       "0                brick flat (for sale)                    good              1   \n",
       "1                brick flat (for sale)                   novel              2   \n",
       "2                brick flat (for sale)                   novel              1   \n",
       "3                brick flat (for sale)                    good              4   \n",
       "4  prefabricated panel flat (for sale)                 renewed              6   \n",
       "\n",
       "  building_floor_count    view_type orientation  ... room_cnt small_room_cnt  \\\n",
       "0                  NaN  street view         NaN  ...      2.0            1.0   \n",
       "1                  NaN  street view         NaN  ...      1.0            1.0   \n",
       "2                  NaN  garden view         NaN  ...      2.0            1.0   \n",
       "3                  NaN  garden view         NaN  ...      2.0            0.0   \n",
       "4                  NaN          NaN         NaN  ...      2.0            1.0   \n",
       "\n",
       "   created_at  property_area  balcony_area price_created_at  ad_view_cnt  \\\n",
       "0  2015-02-09           65.0           0.0             23.5        605.0   \n",
       "1  2015-02-09           45.0           0.0             20.0         49.0   \n",
       "2  2015-02-09           60.0           0.0             22.0         77.0   \n",
       "3  2015-02-09           55.0           4.0             11.0        139.0   \n",
       "4  2015-02-09           60.0           3.0             10.2        176.0   \n",
       "\n",
       "   active_days  nr  split  \n",
       "0        119.0   4   test  \n",
       "1         25.0  12  train  \n",
       "2         77.0  14  train  \n",
       "3         18.0  21  train  \n",
       "4         69.0  31   test  \n",
       "\n",
       "[5 rows x 23 columns]"
      ]
     },
     "execution_count": 7,
     "metadata": {},
     "output_type": "execute_result"
    }
   ],
   "source": [
    "# Check the head of the dataset\n",
    "housing.head()"
   ]
  },
  {
   "cell_type": "code",
   "execution_count": 9,
   "metadata": {
    "id": "Ge4N2njkL5oY"
   },
   "outputs": [
    {
     "data": {
      "text/plain": [
       "(78539, 23)"
      ]
     },
     "execution_count": 9,
     "metadata": {},
     "output_type": "execute_result"
    }
   ],
   "source": [
    "housing.shape"
   ]
  },
  {
   "cell_type": "code",
   "execution_count": 11,
   "metadata": {
    "id": "i6y5AhBE98v-"
   },
   "outputs": [],
   "source": [
    "# The dataset shape shows the number of instances and features in the dataset\n",
    "num_instances = housing.shape[0]\n",
    "num_features = housing.shape[1]"
   ]
  },
  {
   "cell_type": "code",
   "execution_count": 13,
   "metadata": {
    "id": "GHB3VZtzL-tQ"
   },
   "outputs": [
    {
     "name": "stdout",
     "output_type": "stream",
     "text": [
      "<class 'pandas.core.frame.DataFrame'>\n",
      "RangeIndex: 78539 entries, 0 to 78538\n",
      "Data columns (total 23 columns):\n",
      " #   Column                   Non-Null Count  Dtype  \n",
      "---  ------                   --------------  -----  \n",
      " 0   county                   78539 non-null  object \n",
      " 1   city                     77980 non-null  object \n",
      " 2   postcode                 49585 non-null  float64\n",
      " 3   property_type            78539 non-null  object \n",
      " 4   property_subtype         76880 non-null  object \n",
      " 5   property_condition_type  78539 non-null  object \n",
      " 6   property_floor           74746 non-null  object \n",
      " 7   building_floor_count     36429 non-null  object \n",
      " 8   view_type                42878 non-null  object \n",
      " 9   orientation              47647 non-null  object \n",
      " 10  garden_access            17200 non-null  object \n",
      " 11  heating_type             67233 non-null  object \n",
      " 12  elevator_type            64388 non-null  object \n",
      " 13  room_cnt                 78539 non-null  float64\n",
      " 14  small_room_cnt           78539 non-null  float64\n",
      " 15  created_at               78539 non-null  object \n",
      " 16  property_area            78539 non-null  float64\n",
      " 17  balcony_area             78539 non-null  float64\n",
      " 18  price_created_at         78539 non-null  float64\n",
      " 19  ad_view_cnt              78539 non-null  float64\n",
      " 20  active_days              78539 non-null  float64\n",
      " 21  nr                       78539 non-null  int64  \n",
      " 22  split                    78539 non-null  object \n",
      "dtypes: float64(8), int64(1), object(14)\n",
      "memory usage: 13.8+ MB\n"
     ]
    }
   ],
   "source": [
    "housing.info()"
   ]
  },
  {
   "cell_type": "code",
   "execution_count": 15,
   "metadata": {
    "id": "XSbEbKRSMBfx"
   },
   "outputs": [
    {
     "data": {
      "text/html": [
       "<div>\n",
       "<style scoped>\n",
       "    .dataframe tbody tr th:only-of-type {\n",
       "        vertical-align: middle;\n",
       "    }\n",
       "\n",
       "    .dataframe tbody tr th {\n",
       "        vertical-align: top;\n",
       "    }\n",
       "\n",
       "    .dataframe thead th {\n",
       "        text-align: right;\n",
       "    }\n",
       "</style>\n",
       "<table border=\"1\" class=\"dataframe\">\n",
       "  <thead>\n",
       "    <tr style=\"text-align: right;\">\n",
       "      <th></th>\n",
       "      <th>postcode</th>\n",
       "      <th>room_cnt</th>\n",
       "      <th>small_room_cnt</th>\n",
       "      <th>property_area</th>\n",
       "      <th>balcony_area</th>\n",
       "      <th>price_created_at</th>\n",
       "      <th>ad_view_cnt</th>\n",
       "      <th>active_days</th>\n",
       "      <th>nr</th>\n",
       "    </tr>\n",
       "  </thead>\n",
       "  <tbody>\n",
       "    <tr>\n",
       "      <th>count</th>\n",
       "      <td>49585.000000</td>\n",
       "      <td>78539.000000</td>\n",
       "      <td>78539.000000</td>\n",
       "      <td>78539.000000</td>\n",
       "      <td>78539.000000</td>\n",
       "      <td>78539.000000</td>\n",
       "      <td>78539.000000</td>\n",
       "      <td>78539.000000</td>\n",
       "      <td>78539.000000</td>\n",
       "    </tr>\n",
       "    <tr>\n",
       "      <th>mean</th>\n",
       "      <td>1103.358980</td>\n",
       "      <td>1.467666</td>\n",
       "      <td>0.559875</td>\n",
       "      <td>48.440584</td>\n",
       "      <td>1.953182</td>\n",
       "      <td>19.341475</td>\n",
       "      <td>259.599320</td>\n",
       "      <td>44.173684</td>\n",
       "      <td>196334.093240</td>\n",
       "    </tr>\n",
       "    <tr>\n",
       "      <th>std</th>\n",
       "      <td>50.769326</td>\n",
       "      <td>0.599840</td>\n",
       "      <td>0.737015</td>\n",
       "      <td>12.716653</td>\n",
       "      <td>4.677227</td>\n",
       "      <td>8.900296</td>\n",
       "      <td>512.351553</td>\n",
       "      <td>47.821006</td>\n",
       "      <td>113305.083861</td>\n",
       "    </tr>\n",
       "    <tr>\n",
       "      <th>min</th>\n",
       "      <td>1011.000000</td>\n",
       "      <td>0.000000</td>\n",
       "      <td>0.000000</td>\n",
       "      <td>5.000000</td>\n",
       "      <td>0.000000</td>\n",
       "      <td>0.200000</td>\n",
       "      <td>0.000000</td>\n",
       "      <td>1.000000</td>\n",
       "      <td>4.000000</td>\n",
       "    </tr>\n",
       "    <tr>\n",
       "      <th>25%</th>\n",
       "      <td>1064.000000</td>\n",
       "      <td>1.000000</td>\n",
       "      <td>0.000000</td>\n",
       "      <td>40.000000</td>\n",
       "      <td>0.000000</td>\n",
       "      <td>13.200000</td>\n",
       "      <td>42.000000</td>\n",
       "      <td>11.000000</td>\n",
       "      <td>97959.000000</td>\n",
       "    </tr>\n",
       "    <tr>\n",
       "      <th>50%</th>\n",
       "      <td>1101.000000</td>\n",
       "      <td>1.000000</td>\n",
       "      <td>0.000000</td>\n",
       "      <td>50.000000</td>\n",
       "      <td>0.000000</td>\n",
       "      <td>16.900000</td>\n",
       "      <td>103.000000</td>\n",
       "      <td>28.000000</td>\n",
       "      <td>196095.000000</td>\n",
       "    </tr>\n",
       "    <tr>\n",
       "      <th>75%</th>\n",
       "      <td>1142.000000</td>\n",
       "      <td>2.000000</td>\n",
       "      <td>1.000000</td>\n",
       "      <td>60.000000</td>\n",
       "      <td>3.000000</td>\n",
       "      <td>23.900000</td>\n",
       "      <td>263.000000</td>\n",
       "      <td>61.000000</td>\n",
       "      <td>294516.500000</td>\n",
       "    </tr>\n",
       "    <tr>\n",
       "      <th>max</th>\n",
       "      <td>1239.000000</td>\n",
       "      <td>7.000000</td>\n",
       "      <td>4.000000</td>\n",
       "      <td>70.000000</td>\n",
       "      <td>97.000000</td>\n",
       "      <td>99.600000</td>\n",
       "      <td>28096.000000</td>\n",
       "      <td>537.000000</td>\n",
       "      <td>394181.000000</td>\n",
       "    </tr>\n",
       "  </tbody>\n",
       "</table>\n",
       "</div>"
      ],
      "text/plain": [
       "           postcode      room_cnt  small_room_cnt  property_area  \\\n",
       "count  49585.000000  78539.000000    78539.000000   78539.000000   \n",
       "mean    1103.358980      1.467666        0.559875      48.440584   \n",
       "std       50.769326      0.599840        0.737015      12.716653   \n",
       "min     1011.000000      0.000000        0.000000       5.000000   \n",
       "25%     1064.000000      1.000000        0.000000      40.000000   \n",
       "50%     1101.000000      1.000000        0.000000      50.000000   \n",
       "75%     1142.000000      2.000000        1.000000      60.000000   \n",
       "max     1239.000000      7.000000        4.000000      70.000000   \n",
       "\n",
       "       balcony_area  price_created_at   ad_view_cnt   active_days  \\\n",
       "count  78539.000000      78539.000000  78539.000000  78539.000000   \n",
       "mean       1.953182         19.341475    259.599320     44.173684   \n",
       "std        4.677227          8.900296    512.351553     47.821006   \n",
       "min        0.000000          0.200000      0.000000      1.000000   \n",
       "25%        0.000000         13.200000     42.000000     11.000000   \n",
       "50%        0.000000         16.900000    103.000000     28.000000   \n",
       "75%        3.000000         23.900000    263.000000     61.000000   \n",
       "max       97.000000         99.600000  28096.000000    537.000000   \n",
       "\n",
       "                  nr  \n",
       "count   78539.000000  \n",
       "mean   196334.093240  \n",
       "std    113305.083861  \n",
       "min         4.000000  \n",
       "25%     97959.000000  \n",
       "50%    196095.000000  \n",
       "75%    294516.500000  \n",
       "max    394181.000000  "
      ]
     },
     "execution_count": 15,
     "metadata": {},
     "output_type": "execute_result"
    }
   ],
   "source": [
    "housing.describe()"
   ]
  },
  {
   "cell_type": "code",
   "execution_count": 17,
   "metadata": {},
   "outputs": [
    {
     "name": "stdout",
     "output_type": "stream",
     "text": [
      "county                      0.000000\n",
      "city                        0.711748\n",
      "postcode                   36.865761\n",
      "property_type               0.000000\n",
      "property_subtype            2.112326\n",
      "property_condition_type     0.000000\n",
      "property_floor              4.829448\n",
      "building_floor_count       53.616675\n",
      "view_type                  45.405467\n",
      "orientation                39.333325\n",
      "garden_access              78.100052\n",
      "heating_type               14.395396\n",
      "elevator_type              18.017800\n",
      "room_cnt                    0.000000\n",
      "small_room_cnt              0.000000\n",
      "created_at                  0.000000\n",
      "property_area               0.000000\n",
      "balcony_area                0.000000\n",
      "price_created_at            0.000000\n",
      "ad_view_cnt                 0.000000\n",
      "active_days                 0.000000\n",
      "nr                          0.000000\n",
      "split                       0.000000\n",
      "dtype: float64\n"
     ]
    }
   ],
   "source": [
    "num_instances=house.shape[0]\n",
    "num_na_instances=house.isnull().sum()\n",
    "print((num_na_instances/num_instances)*100)"
   ]
  },
  {
   "cell_type": "code",
   "execution_count": 19,
   "metadata": {},
   "outputs": [
    {
     "name": "stdout",
     "output_type": "stream",
     "text": [
      "county                     0\n",
      "city                       0\n",
      "postcode                   0\n",
      "property_type              0\n",
      "property_subtype           0\n",
      "property_condition_type    0\n",
      "property_floor             0\n",
      "building_floor_count       0\n",
      "view_type                  0\n",
      "orientation                0\n",
      "garden_access              0\n",
      "heating_type               0\n",
      "elevator_type              0\n",
      "room_cnt                   0\n",
      "small_room_cnt             0\n",
      "created_at                 0\n",
      "property_area              0\n",
      "balcony_area               0\n",
      "price_created_at           0\n",
      "ad_view_cnt                0\n",
      "active_days                0\n",
      "nr                         0\n",
      "split                      0\n",
      "dtype: int64\n"
     ]
    }
   ],
   "source": [
    "## Drop or remove nan values from columns \n",
    "house_clean= house.dropna()\n",
    "print(house_clean.isnull().sum())"
   ]
  },
  {
   "cell_type": "code",
   "execution_count": 28,
   "metadata": {},
   "outputs": [
    {
     "name": "stdout",
     "output_type": "stream",
     "text": [
      "(5682, 23)\n",
      "(78539, 23)\n",
      "     county             city  postcode property_type  \\\n",
      "0  Budapest    Budapest XII.       0.0          flat   \n",
      "1  Budapest      Budapest I.    1016.0          flat   \n",
      "2  Budapest    Budapest XVI.    1164.0          flat   \n",
      "3  Budapest      Budapest X.       0.0          flat   \n",
      "4  Budapest  Budapest XVIII.    1181.0          flat   \n",
      "\n",
      "                      property_subtype property_condition_type property_floor  \\\n",
      "0                brick flat (for sale)                    good              1   \n",
      "1                brick flat (for sale)                   novel              2   \n",
      "2                brick flat (for sale)                   novel              1   \n",
      "3                brick flat (for sale)                    good              4   \n",
      "4  prefabricated panel flat (for sale)                 renewed              6   \n",
      "\n",
      "  building_floor_count    view_type orientation  ... room_cnt small_room_cnt  \\\n",
      "0                    0  street view           0  ...      2.0            1.0   \n",
      "1                    0  street view           0  ...      1.0            1.0   \n",
      "2                    0  garden view           0  ...      2.0            1.0   \n",
      "3                    0  garden view           0  ...      2.0            0.0   \n",
      "4                    0            0           0  ...      2.0            1.0   \n",
      "\n",
      "   created_at  property_area  balcony_area price_created_at  ad_view_cnt  \\\n",
      "0  2015-02-09           65.0           0.0             23.5        605.0   \n",
      "1  2015-02-09           45.0           0.0             20.0         49.0   \n",
      "2  2015-02-09           60.0           0.0             22.0         77.0   \n",
      "3  2015-02-09           55.0           4.0             11.0        139.0   \n",
      "4  2015-02-09           60.0           3.0             10.2        176.0   \n",
      "\n",
      "   active_days  nr  split  \n",
      "0        119.0   4   test  \n",
      "1         25.0  12  train  \n",
      "2         77.0  14  train  \n",
      "3         18.0  21  train  \n",
      "4         69.0  31   test  \n",
      "\n",
      "[5 rows x 23 columns]\n"
     ]
    }
   ],
   "source": [
    "print(house_clean.shape)\n",
    "## I lost a lot of data here that is why I would like to fill NAN with 0\n",
    "\n",
    "house.fillna(0,inplace=True)\n",
    "print(house.shape)\n",
    "print(house.head())"
   ]
  },
  {
   "cell_type": "markdown",
   "metadata": {
    "id": "8jHSic1P-9_1"
   },
   "source": [
    "## Features and ground truth labels"
   ]
  },
  {
   "cell_type": "code",
   "execution_count": 36,
   "metadata": {
    "id": "XXok0q5X_DeT"
   },
   "outputs": [
    {
     "name": "stdout",
     "output_type": "stream",
     "text": [
      "room_cnt            0.292794\n",
      "property_area       0.451649\n",
      "balcony_area        0.227983\n",
      "price_created_at    1.000000\n",
      "nr                  0.193351\n",
      "Name: price_created_at, dtype: float64\n"
     ]
    }
   ],
   "source": [
    "# One of the columns contains the prices. In this task, we need to predict the prices based on some information that we have; thus, this column is the ground truth label.\n",
    "# 'price_created_at' column has the ground truth label that we are going to use in training and testing later.\n",
    "gt_feature = 'price_created_at'\n",
    "### Keep only numeric columns for the correlation matrix\n",
    "house = house.select_dtypes(include=[float, int])\n",
    "# Compute correlation matrix\n",
    "correlation_matrix = house.corr()\n",
    "\n",
    "# Select features with strong correlation with the target\n",
    "correlation_with_target = correlation_matrix['price_created_at'].abs()  # Absolute correlation values\n",
    "important_features = correlation_with_target[correlation_with_target > 0.1]  # Threshold of 0.2 for correlation\n",
    "print(important_features)\n"
   ]
  },
  {
   "cell_type": "code",
   "execution_count": 38,
   "metadata": {},
   "outputs": [
    {
     "name": "stdout",
     "output_type": "stream",
     "text": [
      "['room_cnt', 'small_room_cnt', 'property_area', 'price_created_at']\n"
     ]
    },
    {
     "data": {
      "text/plain": [
       "(78539, 4)"
      ]
     },
     "execution_count": 38,
     "metadata": {},
     "output_type": "execute_result"
    }
   ],
   "source": [
    "small_features = ['room_cnt','small_room_cnt','property_area']\n",
    "target = 'price_created_at'\n",
    "all_small_columns = small_features + [target]\n",
    "print(all_small_columns)\n",
    "housing_clean_small = house[all_small_columns]\n",
    "housing_clean_small.shape"
   ]
  },
  {
   "cell_type": "code",
   "execution_count": 40,
   "metadata": {
    "scrolled": true
   },
   "outputs": [
    {
     "data": {
      "image/png": "[encoded data removed]",
      "text/plain": [
       "<Figure size 1000x500 with 4 Axes>"
      ]
     },
     "metadata": {},
     "output_type": "display_data"
    }
   ],
   "source": [
    "fig, axs = plt.subplots(2,2, figsize = (10,5))\n",
    "plt1 = sns.boxplot(housing_clean_small['room_cnt'], ax = axs[0,0])\n",
    "plt2 = sns.boxplot(housing_clean_small['small_room_cnt'], ax = axs[0,1])\n",
    "plt1 = sns.boxplot(housing_clean_small['property_area'], ax = axs[1,0])\n",
    "plt2 = sns.boxplot(housing_clean_small['price_created_at'], ax = axs[1,1])\n",
    "\n",
    "plt.tight_layout()"
   ]
  },
  {
   "cell_type": "code",
   "execution_count": 42,
   "metadata": {
    "scrolled": true
   },
   "outputs": [
    {
     "data": {
      "image/png": "[encoded data removed]",
      "text/plain": [
       "<Figure size 640x480 with 1 Axes>"
      ]
     },
     "metadata": {},
     "output_type": "display_data"
    },
    {
     "name": "stdout",
     "output_type": "stream",
     "text": [
      "(76254, 4)\n"
     ]
    },
    {
     "data": {
      "image/png": "[encoded data removed]",
      "text/plain": [
       "<Figure size 640x480 with 1 Axes>"
      ]
     },
     "metadata": {},
     "output_type": "display_data"
    }
   ],
   "source": [
    "plt.boxplot(housing_clean_small.price_created_at)\n",
    "plt.show()\n",
    "Q1 = housing_clean_small.price_created_at.quantile(0.25)\n",
    "Q3 = housing_clean_small.price_created_at.quantile(0.75)\n",
    "IQR = Q3 - Q1\n",
    "housing_clean_small = housing_clean_small[(housing_clean_small.price_created_at >= Q1 - 1.5*IQR) & (housing_clean_small.price_created_at <= Q3 + 1.5*IQR)]\n",
    "print(housing_clean_small.shape)\n",
    "plt.boxplot(housing_clean_small.price_created_at)\n",
    "plt.show()"
   ]
  },
  {
   "cell_type": "code",
   "execution_count": 44,
   "metadata": {},
   "outputs": [
    {
     "data": {
      "image/png": "[encoded data removed]",
      "text/plain": [
       "<Figure size 1000x500 with 4 Axes>"
      ]
     },
     "metadata": {},
     "output_type": "display_data"
    }
   ],
   "source": [
    "fig, axs = plt.subplots(2,2, figsize = (10,5))\n",
    "plt1 = sns.boxplot(housing_clean_small['room_cnt'], ax = axs[0,0])\n",
    "plt2 = sns.boxplot(housing_clean_small['small_room_cnt'], ax = axs[0,1])\n",
    "plt1 = sns.boxplot(housing_clean_small['property_area'], ax = axs[1,0])\n",
    "plt2 = sns.boxplot(housing_clean_small['price_created_at'], ax = axs[1,1])\n",
    "\n",
    "plt.tight_layout()"
   ]
  },
  {
   "cell_type": "code",
   "execution_count": 46,
   "metadata": {},
   "outputs": [],
   "source": [
    "## Scaling data using MinMaxScaler \n",
    "from sklearn.preprocessing import MinMaxScaler\n",
    "scaler = MinMaxScaler()\n",
    "housing_clean_small[small_features] = scaler.fit_transform(housing_clean_small[small_features])"
   ]
  },
  {
   "cell_type": "markdown",
   "metadata": {
    "id": "8cuT5ysJMN5U"
   },
   "source": [
    "## Holding out a test set for performance evaluation"
   ]
  },
  {
   "cell_type": "code",
   "execution_count": 49,
   "metadata": {
    "id": "JV8bX6LwMN5U"
   },
   "outputs": [
    {
     "data": {
      "text/plain": [
       "((54977, 23), (23562, 23))"
      ]
     },
     "execution_count": 49,
     "metadata": {},
     "output_type": "execute_result"
    }
   ],
   "source": [
    "# 1- We need to decide how much of the data is used for testing.\n",
    "#    In this experiment the data is labeled beforehand, we have 30% of the data for testing purposes.\n",
    "# 2- How many instances do we have for training and testing?\n",
    "\n",
    "train_set = housing[housing['split']=='train']\n",
    "test_set = housing[housing['split']=='test']\n",
    "\n",
    "train_set.shape, test_set.shape"
   ]
  },
  {
   "cell_type": "code",
   "execution_count": 51,
   "metadata": {
    "id": "btwvyP_ILMaE"
   },
   "outputs": [],
   "source": [
    "# The following is just to assert that the data is complete and none of th einstances was dropped\n",
    "test_perc = 0.3\n",
    "train_perc = 1 - test_perc\n",
    "\n",
    "assert (len(train_set) + len(test_set)) == num_instances\n",
    "assert (len(train_set)) == int(train_perc*num_instances)\n",
    "assert (len(test_set)) == (num_instances - len(train_set))"
   ]
  },
  {
   "cell_type": "markdown",
   "metadata": {
    "id": "NvQBZNegCw7Y"
   },
   "source": [
    "# Model selection"
   ]
  },
  {
   "cell_type": "code",
   "execution_count": 54,
   "metadata": {
    "id": "RaJZt1NOFVNM"
   },
   "outputs": [
    {
     "data": {
      "text/plain": [
       "((54977, 3), (54977,), (23562, 3), (23562,))"
      ]
     },
     "execution_count": 54,
     "metadata": {},
     "output_type": "execute_result"
    }
   ],
   "source": [
    "# We need to create features and ground truth sets for both train and test splits that we have. Use 'features' and 'gt_feature'.\n",
    "\n",
    "X_train = train_set[small_features]\n",
    "y_train = train_set[gt_feature]\n",
    "X_test = test_set[small_features]\n",
    "y_test = test_set[gt_feature]\n",
    "\n",
    "X_train.shape, y_train.shape, X_test.shape, y_test.shape"
   ]
  },
  {
   "cell_type": "code",
   "execution_count": 59,
   "metadata": {
    "id": "CO7Zi-7qC5up"
   },
   "outputs": [],
   "source": [
    "# For prediction, you should use the following function. As you can see, it is incomplete, please fill the gaps.\n",
    "# The selected model has to learn the features in the data before giving an educated prediction. Why?\n",
    "# We first fit the model using the train data, then use it to predict labels (prices) for the test instances. Why?\n",
    "\n",
    "def model_predict(model, X_train, y_train, X_test):\n",
    "  # fit the model\n",
    "  model.fit(X_train,y_train)\n",
    "  # make predictions\n",
    "  pred = model.predict(X_test)\n",
    "  return model, pred"
   ]
  },
  {
   "cell_type": "code",
   "execution_count": null,
   "metadata": {
    "id": "VbGzNzUoFRSB"
   },
   "outputs": [],
   "source": [
    "# Using the selected models, You can make the predictions using 'model_predict' function. Please save the returned values so we can check their performance.\n",
    "# ..."
   ]
  },
  {
   "cell_type": "code",
   "execution_count": 71,
   "metadata": {
    "id": "vTJ8ZOYnZeb3"
   },
   "outputs": [
    {
     "name": "stdout",
     "output_type": "stream",
     "text": [
      "The predicted values of LinearRegression are: [24.26930088 22.51832464 15.53650582 ... 18.35919525 13.78552957\n",
      " 25.48442054]\n",
      "The predicted values of GradientBoostingRegressor are: [25.76803033 25.2817661  14.41465147 ... 17.54468616 13.54572559\n",
      " 26.98631978]\n",
      "The predicted values of RandomForestRegressor are: [24.82045811 24.6486186  14.73187687 ... 17.31592964 13.42718713\n",
      " 27.87115389]\n"
     ]
    }
   ],
   "source": [
    "model_1 = LinearRegression()\n",
    "trained_model_1, predictions_1 = model_predict(model_1, X_train, y_train, X_test)\n",
    "print(f\"The predicted values of LinearRegression are: {predictions_1}\")\n",
    "\n",
    "model_2=GradientBoostingRegressor()\n",
    "trained_model_2, predictions_2 = model_predict(model_2, X_train, y_train, X_test)\n",
    "print(f\"The predicted values of GradientBoostingRegressor are: {predictions_2}\")\n",
    "\n",
    "model_3= RandomForestRegressor()\n",
    "trained_model_3, predictions_3 = model_predict(model_3, X_train, y_train, X_test)\n",
    "print(f\"The predicted values of RandomForestRegressor are: {predictions_3}\")"
   ]
  },
  {
   "cell_type": "markdown",
   "metadata": {
    "id": "ukbVGjUvCyoG"
   },
   "source": [
    "# Evaluation"
   ]
  },
  {
   "cell_type": "code",
   "execution_count": 75,
   "metadata": {
    "id": "qkwNqkPoC0h6"
   },
   "outputs": [],
   "source": [
    "# For evaluation we use Mean Absolute Error (MAE), Mean Absolute Percentage Error (MAPE), and Root Mean Square Error (RMSE).\n",
    "# Please complete the following function:\n",
    "\n",
    "def model_evaluate(pred, target):\n",
    "    # MAE: Mean Absolute Error\n",
    "    mae = np.mean(np.abs(pred - target))\n",
    "    \n",
    "    # MAPE: Mean Absolute Percentage Error (handle divide by zero by adding a small value to avoid issues)\n",
    "    mape = np.mean(np.abs((pred - target) / (target + 1e-10))) * 100  # Adding a small value to avoid division by zero\n",
    "    \n",
    "    # RMSE: Root Mean Squared Error\n",
    "    rmse = np.sqrt(np.mean((pred - target) ** 2))\n",
    "    \n",
    "    return mae, mape, rmse"
   ]
  },
  {
   "cell_type": "code",
   "execution_count": 77,
   "metadata": {
    "id": "rAJ5I2RvC0ff"
   },
   "outputs": [],
   "source": [
    "# Check and compare the performance for all the models. Do you find any interesting observtions(s)? What are your conclusion(s)?"
   ]
  },
  {
   "cell_type": "code",
   "execution_count": 79,
   "metadata": {
    "id": "4PA__ov2C0DU"
   },
   "outputs": [
    {
     "name": "stdout",
     "output_type": "stream",
     "text": [
      "evaluation of LinearRegression:(5.888194823575069, 33.08406442080232, 7.99501229159492)\n"
     ]
    }
   ],
   "source": [
    "mae_1, mape_1, rmse_1 = model_evaluate(predictions_1, y_test)\n",
    "print(f\"evaluation of LinearRegression:{mae_1, mape_1, rmse_1}\")"
   ]
  },
  {
   "cell_type": "code",
   "execution_count": 81,
   "metadata": {},
   "outputs": [
    {
     "name": "stdout",
     "output_type": "stream",
     "text": [
      "evaluation of GradientBoostingRegressor:(5.718586773004921, 32.33960412564682, 7.873650781101328)\n"
     ]
    }
   ],
   "source": [
    "mae_2, mape_2, rmse_2 = model_evaluate(predictions_2, y_test)\n",
    "print(f\"evaluation of GradientBoostingRegressor:{mae_2, mape_2, rmse_2}\")"
   ]
  },
  {
   "cell_type": "code",
   "execution_count": 83,
   "metadata": {},
   "outputs": [
    {
     "name": "stdout",
     "output_type": "stream",
     "text": [
      "evaluation of RandomForestRegressor:(5.668745880147707, 31.980221640764206, 7.836135896934439)\n"
     ]
    }
   ],
   "source": [
    "mae_3, mape_3, rmse_3 = model_evaluate(predictions_3, y_test)\n",
    "print(f\"evaluation of RandomForestRegressor:{mae_3, mape_3, rmse_3}\")"
   ]
  },
  {
   "cell_type": "markdown",
   "metadata": {},
   "source": [
    "# REPORT"
   ]
  },
  {
   "cell_type": "markdown",
   "metadata": {},
   "source": [
    "- Random Forest Regressor outperforms the other models, offering the most accurate predictions.\n",
    "- Gradient Boosting also performs well, while Linear Regression is the least accurate.\n",
    "- Ensemble methods (Random Forest, Gradient Boosting) capture more complex data patterns than Linear Regression."
   ]
  }
 ],
 "metadata": {
  "colab": {
   "authorship_tag": "ABX9TyMAw6Lxm7wnVvDiYgwdVQxV",
   "mount_file_id": "19XXXifDc4l_Sq8Hv8aIi8penr4Udhudk",
   "provenance": []
  },
  "kernelspec": {
   "display_name": "Python 3 (ipykernel)",
   "language": "python",
   "name": "python3"
  },
  "language_info": {
   "codemirror_mode": {
    "name": "ipython",
    "version": 3
   },
   "file_extension": ".py",
   "mimetype": "text/x-python",
   "name": "python",
   "nbconvert_exporter": "python",
   "pygments_lexer": "ipython3",
   "version": "3.9.12"
  }
 },
 "nbformat": 4,
 "nbformat_minor": 4
}
